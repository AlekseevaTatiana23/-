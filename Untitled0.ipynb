{
  "nbformat": 4,
  "nbformat_minor": 0,
  "metadata": {
    "colab": {
      "provenance": [],
      "authorship_tag": "ABX9TyMxcCQpX7+TcXqMq01Qfru+",
      "include_colab_link": true
    },
    "kernelspec": {
      "name": "python3",
      "display_name": "Python 3"
    },
    "language_info": {
      "name": "python"
    }
  },
  "cells": [
    {
      "cell_type": "markdown",
      "metadata": {
        "id": "view-in-github",
        "colab_type": "text"
      },
      "source": [
        "<a href=\"https://colab.research.google.com/github/AlekseevaTatiana23/AlekseevaTatiana23.github.io/blob/main/Untitled0.ipynb\" target=\"_parent\"><img src=\"https://colab.research.google.com/assets/colab-badge.svg\" alt=\"Open In Colab\"/></a>"
      ]
    },
    {
      "cell_type": "markdown",
      "source": [],
      "metadata": {
        "id": "2xIkjWxAbSyS"
      }
    },
    {
      "cell_type": "markdown",
      "source": [
        "# 1. Из колоды в 52 карты извлекаются случайным образом 4 карты. a) Найти вероятность того, что все карты – крести. б) Найти вероятность, что среди 4-х карт окажется хотя бы один туз."
      ],
      "metadata": {
        "id": "a6xSsh9vbdDi"
      }
    },
    {
      "cell_type": "markdown",
      "source": [
        "а) Множество крести состоит из 13 карт (52/4 масти). Воспользуемся формулой для сочетания и вычислим количество вариантов, чтобы вытащить 4 крести и 13 возможных (количество благоприятных исходов) и количество вариантов, чтобы вытащить 4 карты из 52 (количество всевозможных вариантов). Далее воспользуемся формулой для классического определения вероятности."
      ],
      "metadata": {
        "id": "NPw3fpSgdcNt"
      }
    },
    {
      "cell_type": "code",
      "source": [
        "import numpy as np\n",
        "from math import factorial\n",
        "def combinations(n, k):\n",
        "    return int(factorial(n) / (factorial(k) * factorial(n - k)))\n",
        "\n",
        "m=combinations(13,4)\n",
        "print(f'm={m}')\n"
      ],
      "metadata": {
        "colab": {
          "base_uri": "https://localhost:8080/"
        },
        "id": "fNvHi3hLbfDZ",
        "outputId": "39075f32-6b6b-4f69-dce8-a23f84f8b69f"
      },
      "execution_count": 4,
      "outputs": [
        {
          "output_type": "stream",
          "name": "stdout",
          "text": [
            "m=715\n"
          ]
        }
      ]
    },
    {
      "cell_type": "code",
      "source": [
        "n=combinations(52,4)\n",
        "print(f'n={n}')"
      ],
      "metadata": {
        "colab": {
          "base_uri": "https://localhost:8080/"
        },
        "id": "oAK3moymhsQa",
        "outputId": "623228a3-b6bc-4fa1-e922-962fdb7415e2"
      },
      "execution_count": 5,
      "outputs": [
        {
          "output_type": "stream",
          "name": "stdout",
          "text": [
            "n=270725\n"
          ]
        }
      ]
    },
    {
      "cell_type": "code",
      "source": [
        "P=m/n\n",
        "print(f'P={round(P,3)}')"
      ],
      "metadata": {
        "colab": {
          "base_uri": "https://localhost:8080/"
        },
        "id": "z3TpDZkGhzE_",
        "outputId": "ce94a23c-3306-49f1-8827-9fd93d402902"
      },
      "execution_count": 9,
      "outputs": [
        {
          "output_type": "stream",
          "name": "stdout",
          "text": [
            "P=0.003\n"
          ]
        }
      ]
    },
    {
      "cell_type": "markdown",
      "source": [
        "б) Количество тузов в колоде - 4. Воспользуемся формулой для сочетания и вычислим количество вариантов, чтобы вытащить 1) 1 туз из 4 существующих и 3 нетуза из 48 возможных либо 2) 2 туза и 2 нетуза либо 3) 3 туза и 1 нетуз либо 4) 4 туза (количество благоприятных исходов) и количество вариантов, чтобы вытащить 4 карты из 52 (количество всевозможных вариантов). Далее воспользуемся формулой для классического определения вероятности."
      ],
      "metadata": {
        "id": "nrmz7N55iQhg"
      }
    },
    {
      "cell_type": "code",
      "source": [
        "m=sum([combinations(4,1)*combinations(48,3), combinations(4,2)*combinations(48,2),combinations(4,3)*combinations(48,1),combinations(4,4)])\n",
        "print(f'm={m}')"
      ],
      "metadata": {
        "colab": {
          "base_uri": "https://localhost:8080/"
        },
        "id": "asPI19yqk4f-",
        "outputId": "e4a1795f-503b-492c-e374-fd3c2c46984e"
      },
      "execution_count": 14,
      "outputs": [
        {
          "output_type": "stream",
          "name": "stdout",
          "text": [
            "m=76145\n"
          ]
        }
      ]
    },
    {
      "cell_type": "code",
      "source": [
        "n=combinations(52,4)\n",
        "print(f'n={n}')"
      ],
      "metadata": {
        "colab": {
          "base_uri": "https://localhost:8080/"
        },
        "id": "7qXdJIrjl0TV",
        "outputId": "496e38d6-d87b-44e2-cbf9-e807e7653626"
      },
      "execution_count": 15,
      "outputs": [
        {
          "output_type": "stream",
          "name": "stdout",
          "text": [
            "n=270725\n"
          ]
        }
      ]
    },
    {
      "cell_type": "code",
      "source": [
        "P=m/n\n",
        "print(f'P={round(P,3)}')"
      ],
      "metadata": {
        "colab": {
          "base_uri": "https://localhost:8080/"
        },
        "id": "gdi4N3DQl4iV",
        "outputId": "7e20c6fa-060e-4437-e3f6-848c79750a4e"
      },
      "execution_count": 16,
      "outputs": [
        {
          "output_type": "stream",
          "name": "stdout",
          "text": [
            "P=0.281\n"
          ]
        }
      ]
    },
    {
      "cell_type": "markdown",
      "source": [
        "# 2. На входной двери подъезда установлен кодовый замок, содержащий десять кнопок с цифрами от 0 до 9. Код содержит три цифры, которые нужно нажать одновременно. Какова вероятность того, что человек, не знающий код, откроет дверь с первой попытки?"
      ],
      "metadata": {
        "id": "ZSLMjV-cmDMz"
      }
    },
    {
      "cell_type": "markdown",
      "source": [
        "Количество благоприятных исходов -1. Количество общих исходов - количество сочетаний 3 цифр из 10."
      ],
      "metadata": {
        "id": "60tOwDpbrilu"
      }
    },
    {
      "cell_type": "code",
      "source": [
        "n=combinations(10,3)\n",
        "m=1\n",
        "P=m/n\n",
        "print(f'P={round(P,3)}')"
      ],
      "metadata": {
        "colab": {
          "base_uri": "https://localhost:8080/"
        },
        "id": "OQgdfLCYtOD1",
        "outputId": "8d56b1bc-2542-4968-bccc-e4ccd3b172d1"
      },
      "execution_count": 18,
      "outputs": [
        {
          "output_type": "stream",
          "name": "stdout",
          "text": [
            "P=0.008\n"
          ]
        }
      ]
    },
    {
      "cell_type": "markdown",
      "source": [
        "# 3. В ящике имеется 15 деталей, из которых 9 окрашены. Рабочий случайным образом извлекает 3 детали. Какова вероятность того, что все извлеченные детали окрашены?"
      ],
      "metadata": {
        "id": "NDyTMU9Ht_p5"
      }
    },
    {
      "cell_type": "markdown",
      "source": [
        "Количество благоприятных исходов - 3/9. Количество общих исходов - 3/15."
      ],
      "metadata": {
        "id": "eWUbi_FzuMuu"
      }
    },
    {
      "cell_type": "code",
      "source": [
        "n=combinations(15,3)\n",
        "m=combinations(9,3)\n",
        "P=m/n\n",
        "print(f'P={round(P,3)}')"
      ],
      "metadata": {
        "colab": {
          "base_uri": "https://localhost:8080/"
        },
        "id": "2YUzF5XRuCKB",
        "outputId": "d1d271ed-1b8b-4771-b7cf-69042346973f"
      },
      "execution_count": 19,
      "outputs": [
        {
          "output_type": "stream",
          "name": "stdout",
          "text": [
            "P=0.185\n"
          ]
        }
      ]
    },
    {
      "cell_type": "markdown",
      "source": [
        "# 4. В лотерее 100 билетов. Из них 2 выигрышных. Какова вероятность того, что 2 приобретенных билета окажутся выигрышными?"
      ],
      "metadata": {
        "id": "yP6pFOxjvg28"
      }
    },
    {
      "cell_type": "markdown",
      "source": [
        "Количество благоприятных исходов - 2/2, количество общих исходов - 2/100."
      ],
      "metadata": {
        "id": "078l9o9_vk2K"
      }
    },
    {
      "cell_type": "code",
      "source": [
        "n=combinations(100,2)\n",
        "m=combinations(2,2)\n",
        "P=m/n\n",
        "print(f'P={round(P,4)}')"
      ],
      "metadata": {
        "colab": {
          "base_uri": "https://localhost:8080/"
        },
        "id": "P7vAgtJgwwaW",
        "outputId": "e3b83fed-ab3a-4fe0-d4d8-46cb80a1f933"
      },
      "execution_count": 21,
      "outputs": [
        {
          "output_type": "stream",
          "name": "stdout",
          "text": [
            "P=0.0002\n"
          ]
        }
      ]
    }
  ]
}