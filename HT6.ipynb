{
  "nbformat": 4,
  "nbformat_minor": 0,
  "metadata": {
    "colab": {
      "provenance": [],
      "authorship_tag": "ABX9TyMUxkOTYHu6qhAMX4eCngT8",
      "include_colab_link": true
    },
    "kernelspec": {
      "name": "python3",
      "display_name": "Python 3"
    },
    "language_info": {
      "name": "python"
    }
  },
  "cells": [
    {
      "cell_type": "markdown",
      "metadata": {
        "id": "view-in-github",
        "colab_type": "text"
      },
      "source": [
        "<a href=\"https://colab.research.google.com/github/AlekseevaTatiana23/AlekseevaTatiana23.github.io/blob/main/HT6.ipynb\" target=\"_parent\"><img src=\"https://colab.research.google.com/assets/colab-badge.svg\" alt=\"Open In Colab\"/></a>"
      ]
    },
    {
      "cell_type": "markdown",
      "source": [
        "# 1 Известно, что генеральная совокупность распределена нормально со средним квадратическим отклонением, равным 16. Найти доверительный интервал для оценки математического ожидания a с надежностью 0.95, если выборочная средняя M = 80, а объем выборки n = 256."
      ],
      "metadata": {
        "id": "yak5iy5vg-Qp"
      }
    },
    {
      "cell_type": "code",
      "source": [
        "std=16\n",
        "alpha=0.05\n",
        "n=256\n",
        "m_mean=80\n",
        "\n"
      ],
      "metadata": {
        "id": "6a4pMGYGhC5m"
      },
      "execution_count": 5,
      "outputs": []
    },
    {
      "cell_type": "markdown",
      "source": [
        "Найдем табличное значение Z-критерия(alpha/2) по таблице или по формуле:"
      ],
      "metadata": {
        "id": "GY6yZERPjF1q"
      }
    },
    {
      "cell_type": "code",
      "source": [
        "import numpy as np\n",
        "from scipy import stats\n",
        "Z_table=stats.norm.ppf(0.975)\n",
        "print(f'Z_table: {Z_table: .2f}')"
      ],
      "metadata": {
        "colab": {
          "base_uri": "https://localhost:8080/"
        },
        "id": "OIIit1WDjGAI",
        "outputId": "313e26cb-7774-41b0-e889-792ea898a560"
      },
      "execution_count": 3,
      "outputs": [
        {
          "output_type": "stream",
          "name": "stdout",
          "text": [
            "Z_table:  1.96\n"
          ]
        }
      ]
    },
    {
      "cell_type": "code",
      "source": [
        "L=m_mean - Z_table*(std/np.sqrt(n))\n",
        "U=m_mean + Z_table*(std/np.sqrt(n))\n",
        "print(f'Доверительный интервал=[{L, U}]')"
      ],
      "metadata": {
        "colab": {
          "base_uri": "https://localhost:8080/"
        },
        "id": "VdmsVe5ujb2B",
        "outputId": "dcab0376-a72f-4b40-8446-f42ec56cfe6b"
      },
      "execution_count": 6,
      "outputs": [
        {
          "output_type": "stream",
          "name": "stdout",
          "text": [
            "Доверительный интервал=[(78.04003601545995, 81.95996398454005)]\n"
          ]
        }
      ]
    },
    {
      "cell_type": "markdown",
      "source": [
        "# 2 В результате 10 независимых измерений некоторой величины X, выполненных с одинаковой точностью, получены опытные данные: 6.9, 6.1, 6.2, 6.8, 7.5, 6.3, 6.4, 6.9, 6.7, 6.1 Предполагая, что результаты измерений подчинены нормальному закону распределения вероятностей, оценить истинное значение величины X при помощи доверительного интервала, покрывающего это значение с доверительной вероятностью 0,95."
      ],
      "metadata": {
        "id": "3itc8rvwkO2v"
      }
    },
    {
      "cell_type": "code",
      "source": [
        "x=np.array([6.9, 6.1, 6.2, 6.8, 7.5, 6.3, 6.4, 6.9, 6.7, 6.1])\n",
        "n=10\n",
        "alpha=0.05\n",
        "\n",
        "x_mean=np.mean(x)\n",
        "x_mean"
      ],
      "metadata": {
        "colab": {
          "base_uri": "https://localhost:8080/"
        },
        "id": "crKQPVjikSQm",
        "outputId": "2aba591e-6059-4da5-a196-44143cab6b78"
      },
      "execution_count": 8,
      "outputs": [
        {
          "output_type": "execute_result",
          "data": {
            "text/plain": [
              "6.590000000000001"
            ]
          },
          "metadata": {},
          "execution_count": 8
        }
      ]
    },
    {
      "cell_type": "markdown",
      "source": [
        "Найдем несмещенную дисперсию для выборки. Т.к. стандартное отклонение для генеральной совокупности неизвестно, будем использовать критерий t(alpha/2) при вычислении доверительного интервала."
      ],
      "metadata": {
        "id": "Cqd8g0UXlb8o"
      }
    },
    {
      "cell_type": "code",
      "source": [
        "D=np.var(x, ddof=1)\n",
        "t=stats.t.ppf(0.975, n-1)\n",
        "t"
      ],
      "metadata": {
        "colab": {
          "base_uri": "https://localhost:8080/"
        },
        "id": "y1bGNyYdlpj7",
        "outputId": "6f5eadd4-4b38-4348-eb04-953ccc943ad1"
      },
      "execution_count": 9,
      "outputs": [
        {
          "output_type": "execute_result",
          "data": {
            "text/plain": [
              "2.2621571627409915"
            ]
          },
          "metadata": {},
          "execution_count": 9
        }
      ]
    },
    {
      "cell_type": "code",
      "source": [
        "L=x_mean - t*(np.sqrt(D/n))\n",
        "U=x_mean + t*(np.sqrt(D/n))\n",
        "print(f'Доверительный интервал=[{L, U}]')"
      ],
      "metadata": {
        "colab": {
          "base_uri": "https://localhost:8080/"
        },
        "id": "DxwCuiphlPVm",
        "outputId": "0705f186-7167-41fb-dc62-3f9bbd794ee4"
      },
      "execution_count": 10,
      "outputs": [
        {
          "output_type": "stream",
          "name": "stdout",
          "text": [
            "Доверительный интервал=[(6.267515851415713, 6.912484148584288)]\n"
          ]
        }
      ]
    },
    {
      "cell_type": "markdown",
      "source": [
        "# 3.Рост дочерей 175, 167, 154, 174, 178, 148, 160, 167, 169, 170 Рост матерей 178, 165, 165, 173, 168, 155, 160, 164, 178, 175 Используя эти данные построить 95% доверительный интервал для разности среднего роста родителей и детей."
      ],
      "metadata": {
        "id": "_j4n7K0ckeo0"
      }
    },
    {
      "cell_type": "code",
      "source": [
        "a=np.array([175, 167, 154, 174, 178, 148, 160, 167, 169, 170])\n",
        "b=np.array([178, 165, 165, 173, 168, 155, 160, 164, 178, 175])\n",
        "n1=len(a)\n",
        "n2=len(b)\n",
        "alpha=0.05\n",
        "\n",
        "a_mean=np.mean(a)\n",
        "b_mean=np.mean(b)\n",
        "delta=a_mean-b_mean\n",
        "delta\n"
      ],
      "metadata": {
        "colab": {
          "base_uri": "https://localhost:8080/"
        },
        "id": "e9Rus88NmthI",
        "outputId": "13a7a7cd-224c-458f-e5f2-42d98f1c881a"
      },
      "execution_count": 16,
      "outputs": [
        {
          "output_type": "execute_result",
          "data": {
            "text/plain": [
              "-1.9000000000000057"
            ]
          },
          "metadata": {},
          "execution_count": 16
        }
      ]
    },
    {
      "cell_type": "markdown",
      "source": [
        "Найдем дисперсию для выборки с ростом дочерей и для выборки с ростом матерей"
      ],
      "metadata": {
        "id": "tQ5noBrXoK6R"
      }
    },
    {
      "cell_type": "code",
      "source": [
        "D1=np.var(a, ddof=1)\n",
        "D2=np.var(b, ddof=1)"
      ],
      "metadata": {
        "id": "DXH1F8JboUwR"
      },
      "execution_count": 13,
      "outputs": []
    },
    {
      "cell_type": "markdown",
      "source": [
        "Найдем объединенную оценку дисперсий для обеих групп"
      ],
      "metadata": {
        "id": "4xsB_X0QogjI"
      }
    },
    {
      "cell_type": "code",
      "source": [
        "D=(D1+D2)/2\n",
        "D"
      ],
      "metadata": {
        "colab": {
          "base_uri": "https://localhost:8080/"
        },
        "id": "chO3ZBgPooUg",
        "outputId": "59eaab99-0f0a-4b9d-cd3b-549875a86609"
      },
      "execution_count": 14,
      "outputs": [
        {
          "output_type": "execute_result",
          "data": {
            "text/plain": [
              "75.58333333333334"
            ]
          },
          "metadata": {},
          "execution_count": 14
        }
      ]
    },
    {
      "cell_type": "markdown",
      "source": [
        "Найдем стандартную ошибку разности средних"
      ],
      "metadata": {
        "id": "7iC54zripGTv"
      }
    },
    {
      "cell_type": "code",
      "source": [
        "SE=np.sqrt(D/n1+D/n2)"
      ],
      "metadata": {
        "id": "van4moN8o_Ww"
      },
      "execution_count": 17,
      "outputs": []
    },
    {
      "cell_type": "markdown",
      "source": [
        "Найдем табличное значение t-критерия (alpha/2)"
      ],
      "metadata": {
        "id": "o5FUJXC6pjii"
      }
    },
    {
      "cell_type": "code",
      "source": [
        "t=stats.t.ppf(0.975, 18) #2*(n-1)=18\n",
        "t"
      ],
      "metadata": {
        "colab": {
          "base_uri": "https://localhost:8080/"
        },
        "id": "wtkOeYRhpE8-",
        "outputId": "deb1dd18-5355-4d9c-9b7f-c1c6cf45b62a"
      },
      "execution_count": 18,
      "outputs": [
        {
          "output_type": "execute_result",
          "data": {
            "text/plain": [
              "2.10092204024096"
            ]
          },
          "metadata": {},
          "execution_count": 18
        }
      ]
    },
    {
      "cell_type": "code",
      "source": [
        "L=delta-t*SE\n",
        "U=delta+t*SE\n",
        "print(f'Доверительный интервал для разности среднего роста родителей и детей: [{L, U}]')"
      ],
      "metadata": {
        "colab": {
          "base_uri": "https://localhost:8080/"
        },
        "id": "lqekVZJfoCe8",
        "outputId": "b171008d-396b-478c-a9ba-3e913b3e11ba"
      },
      "execution_count": 24,
      "outputs": [
        {
          "output_type": "stream",
          "name": "stdout",
          "text": [
            "Доверительный интервал для разности среднего роста родителей и детей: [(-10.068418034506857, 6.268418034506846)]\n"
          ]
        }
      ]
    }
  ]
}