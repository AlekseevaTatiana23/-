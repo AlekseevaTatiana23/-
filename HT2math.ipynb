{
  "nbformat": 4,
  "nbformat_minor": 0,
  "metadata": {
    "colab": {
      "provenance": [],
      "authorship_tag": "ABX9TyOum30MVMs3qSoU5XHO3wZc",
      "include_colab_link": true
    },
    "kernelspec": {
      "name": "python3",
      "display_name": "Python 3"
    },
    "language_info": {
      "name": "python"
    }
  },
  "cells": [
    {
      "cell_type": "markdown",
      "metadata": {
        "id": "view-in-github",
        "colab_type": "text"
      },
      "source": [
        "<a href=\"https://colab.research.google.com/github/AlekseevaTatiana23/AlekseevaTatiana23.github.io/blob/main/HT2math.ipynb\" target=\"_parent\"><img src=\"https://colab.research.google.com/assets/colab-badge.svg\" alt=\"Open In Colab\"/></a>"
      ]
    },
    {
      "cell_type": "markdown",
      "source": [
        "# 1.Вероятность того, что стрелок попадет в мишень, выстрелив один раз, равна 0.8. Стрелок выстрелил 100 раз. Найдите вероятность того, что стрелок попадет в цель ровно 85 раз.\n",
        "\n",
        "Используем формулу Бернулли."
      ],
      "metadata": {
        "id": "t0b3aKo6FUbQ"
      }
    },
    {
      "cell_type": "code",
      "source": [
        "import pandas as pd\n",
        "import numpy as np\n",
        "from math import factorial\n",
        "def combinations (n,k):\n",
        "  return int(factorial(n)/(factorial(k)*factorial(n-k)))\n",
        "\n",
        "n=100\n",
        "k=85\n",
        "C = combinations(n, k)\n",
        "p=0.8\n",
        "q=1-p\n",
        "P=C*(p**k)*q**(n-k)\n",
        "\n",
        "print(f'P={round(P,3)}')"
      ],
      "metadata": {
        "colab": {
          "base_uri": "https://localhost:8080/"
        },
        "id": "fTaXDhsWFYXq",
        "outputId": "f8c89f5f-eeea-4212-8c13-cb98c1411f10"
      },
      "execution_count": 4,
      "outputs": [
        {
          "output_type": "stream",
          "name": "stdout",
          "text": [
            "P=0.048\n"
          ]
        }
      ]
    },
    {
      "cell_type": "markdown",
      "source": [
        "# 2. Вероятность того, что лампочка перегорит в течение первого дня эксплуатации, равна 0.0004. В жилом комплексе после ремонта в один день включили 5000 новых лампочек. Какова вероятность, что ни одна из них не перегорит в первый день? Какова вероятность, что перегорят ровно две?\n",
        "\n",
        "Используем формулу для распределения Пуассона.\n",
        "Найдем среднее количество наступления события за день\n",
        "lambda=n*p"
      ],
      "metadata": {
        "id": "NlgsSsDNT8gL"
      }
    },
    {
      "cell_type": "code",
      "source": [
        "n=5000\n",
        "k1=0\n",
        "k2=2\n",
        "p=0.0004\n",
        "l=n*p\n",
        "e=2.72\n",
        "P1=((l**k1)/factorial(k1))*(e**(-l))\n",
        "P2=((l**k2)/factorial(k2))*(e**(-l))\n",
        "\n",
        "print(f'P1={round(P1,3)}')\n",
        "print(f'P2={round(P2,3)}')"
      ],
      "metadata": {
        "colab": {
          "base_uri": "https://localhost:8080/"
        },
        "id": "XwQVRTW5UFmX",
        "outputId": "1231cc5c-f5a4-41c4-e212-3e003717493c"
      },
      "execution_count": 7,
      "outputs": [
        {
          "output_type": "stream",
          "name": "stdout",
          "text": [
            "P1=0.135\n",
            "P2=0.27\n"
          ]
        }
      ]
    },
    {
      "cell_type": "markdown",
      "source": [
        "# 3. Монету подбросили 144 раза. Какова вероятность, что орел выпадет ровно 70 раз?\n",
        "\n",
        "Используем формулу Бернулли. Вероятность, что выпадет орел при одном броске - 0,5."
      ],
      "metadata": {
        "id": "U6oXoXC2WW3s"
      }
    },
    {
      "cell_type": "code",
      "source": [
        "n=144\n",
        "k=70\n",
        "C = combinations(n, k)\n",
        "p=0.5\n",
        "q=1-p\n",
        "P=C*(p**k)*q**(n-k)\n",
        "\n",
        "print(f'P={round(P,3)}')"
      ],
      "metadata": {
        "colab": {
          "base_uri": "https://localhost:8080/"
        },
        "id": "RhB8VhlcWcv-",
        "outputId": "58a1934a-b7e0-47bf-b777-47414a1cfae6"
      },
      "execution_count": 8,
      "outputs": [
        {
          "output_type": "stream",
          "name": "stdout",
          "text": [
            "P=0.063\n"
          ]
        }
      ]
    },
    {
      "cell_type": "markdown",
      "source": [
        "# 4. В первом ящике находится 10 мячей, из которых 7 - белые. Во втором ящике - 11 мячей, из которых 9 белых. Из каждого ящика вытаскивают случайным образом по два мяча. Какова вероятность того, что все мячи белые? Какова вероятность того, что ровно два мяча белые? Какова вероятность того, что хотя бы один мяч белый?"
      ],
      "metadata": {
        "id": "AtoO65MsXaBK"
      }
    },
    {
      "cell_type": "code",
      "source": [
        "m1=combinations(7,2)\n",
        "n1=combinations(10,2)\n",
        "m2=combinations(9,2)\n",
        "n2=combinations(11,2)\n",
        "\n",
        "P1=m1/n1\n",
        "P2=m2/n2\n",
        "P=P1*P2\n",
        "print(f'P={round(P,3)}')\n"
      ],
      "metadata": {
        "colab": {
          "base_uri": "https://localhost:8080/"
        },
        "id": "26mFYF6GXekl",
        "outputId": "619d4cbd-e537-40c9-a460-8004262b6e70"
      },
      "execution_count": 14,
      "outputs": [
        {
          "output_type": "stream",
          "name": "stdout",
          "text": [
            "P=0.305\n"
          ]
        }
      ]
    },
    {
      "cell_type": "code",
      "source": [
        "m=sum([combinations(7,2)*combinations(2,2), combinations(7,1)*combinations(2,1),combinations(3,2)*combinations(9,2)])\n",
        "n=combinations(21,4)\n",
        "P=m/n\n",
        "print(f'P={round(P,3)}')\n"
      ],
      "metadata": {
        "colab": {
          "base_uri": "https://localhost:8080/"
        },
        "id": "s7iAjCiHcfY0",
        "outputId": "b4b99334-da19-49d8-ad1a-df69e3fceebf"
      },
      "execution_count": 15,
      "outputs": [
        {
          "output_type": "stream",
          "name": "stdout",
          "text": [
            "P=0.024\n"
          ]
        }
      ]
    },
    {
      "cell_type": "code",
      "source": [
        "m1=combinations(3,2)\n",
        "n1=combinations(10,2)\n",
        "m2=combinations(2,2)\n",
        "n2=combinations(11,2)\n",
        "P1=m1/n1\n",
        "P2=m2/n2\n",
        "P=1-(P1*P2)\n",
        "print(f'P={round(P,3)}')"
      ],
      "metadata": {
        "colab": {
          "base_uri": "https://localhost:8080/"
        },
        "id": "vjnNXDX-gRIz",
        "outputId": "1573de3e-4b0e-4456-eae8-1e2362bfe4ad"
      },
      "execution_count": 17,
      "outputs": [
        {
          "output_type": "stream",
          "name": "stdout",
          "text": [
            "P=0.999\n"
          ]
        }
      ]
    }
  ]
}