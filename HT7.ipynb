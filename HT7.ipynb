{
  "cells": [
    {
      "cell_type": "markdown",
      "metadata": {
        "id": "view-in-github",
        "colab_type": "text"
      },
      "source": [
        "<a href=\"https://colab.research.google.com/github/AlekseevaTatiana23/AlekseevaTatiana23.github.io/blob/main/HT7.ipynb\" target=\"_parent\"><img src=\"https://colab.research.google.com/assets/colab-badge.svg\" alt=\"Open In Colab\"/></a>"
      ]
    },
    {
      "cell_type": "markdown",
      "source": [
        "# 1  Даны две  независимые выборки. Не соблюдается условие нормальности\n",
        "x1  380,420, 290\n",
        "y1 140,360,200,900\n",
        "\n",
        "Сделайте вывод по результатам, полученным с помощью функции"
      ],
      "metadata": {
        "id": "KDzQ3KhzCmog"
      }
    },
    {
      "cell_type": "markdown",
      "source": [
        "Т.к. выборки 2 и они независимы, то используем критерий Манна-Уитни"
      ],
      "metadata": {
        "id": "wFeF73JNC2yY"
      }
    },
    {
      "cell_type": "code",
      "source": [
        "import numpy as np\n",
        "from scipy import stats\n",
        "x1=np.array([380,420, 290])\n",
        "y1=np.array([140,360,200,900])\n",
        "stats.mannwhitneyu(x1, y1)\n"
      ],
      "metadata": {
        "colab": {
          "base_uri": "https://localhost:8080/"
        },
        "id": "qHhn4RX7CzFx",
        "outputId": "5980457a-59c9-47a5-c065-08394683d821"
      },
      "execution_count": 2,
      "outputs": [
        {
          "output_type": "execute_result",
          "data": {
            "text/plain": [
              "MannwhitneyuResult(statistic=8.0, pvalue=0.6285714285714286)"
            ]
          },
          "metadata": {},
          "execution_count": 2
        }
      ]
    },
    {
      "cell_type": "markdown",
      "source": [
        "Т.к. значение pvalue велико и больше alpha=0.05, значит, что статистических различий в выборках нет, нулевая гипотеза не отвергается"
      ],
      "metadata": {
        "id": "wx6IjS2OCiRB"
      }
    },
    {
      "cell_type": "markdown",
      "source": [
        "# 2 Исследовалось влияние препарата на уровень давления пациентов. Сначала измерялось давление до приема препарата, потом через 10 минут и через 30 минут. Есть ли статистически значимые различия?\n",
        "\n",
        "1е измерение до приема препарата: 150, 160, 165, 145, 155\n",
        "2е измерение через 10 минут: 140, 155, 150,  130, 135\n",
        "3е измерение через 30 минут: 130, 130, 120, 130, 125"
      ],
      "metadata": {
        "id": "EAuWNMhnEw8g"
      }
    },
    {
      "cell_type": "code",
      "source": [
        "before=np.array([150, 160, 165, 145, 155])\n",
        "after_10=np.array([140, 155, 150, 130, 135])\n",
        "after_30=np.array([130, 130, 120, 130, 125])\n",
        "\n"
      ],
      "metadata": {
        "id": "i2VfVaP7E37-"
      },
      "execution_count": 18,
      "outputs": []
    },
    {
      "cell_type": "markdown",
      "source": [
        "Т.к. выборок больше 2 и представлены повторные измерения (зависимые выборки), используем критерий Фридмана"
      ],
      "metadata": {
        "id": "sYQ-psvtFYKe"
      }
    },
    {
      "cell_type": "code",
      "source": [
        "stats.friedmanchisquare(before, after_10, after_30)\n"
      ],
      "metadata": {
        "colab": {
          "base_uri": "https://localhost:8080/"
        },
        "id": "nvz7sKMaFioc",
        "outputId": "9f9c2fec-3f58-4453-aaee-6d4fd030e207"
      },
      "execution_count": 19,
      "outputs": [
        {
          "output_type": "execute_result",
          "data": {
            "text/plain": [
              "FriedmanchisquareResult(statistic=9.578947368421062, pvalue=0.00831683351100441)"
            ]
          },
          "metadata": {},
          "execution_count": 19
        }
      ]
    },
    {
      "cell_type": "markdown",
      "source": [
        "Т.к. значение pvalue мало и меньше alpha=0.05, значит, что статистически значимые различия в выборках присутствуют, т.е. препарат влияет на уровень давления пациентов (нулевая гипотеза отвергается )"
      ],
      "metadata": {
        "id": "g-RL497cF9S1"
      }
    },
    {
      "cell_type": "markdown",
      "source": [
        "# 3 Сравните 1 и 2 е измерения, предполагая, что 3го измерения через 30 минут не было.\n",
        "\n",
        "Для двух зависимых выборок используем критерий Уилкоксона"
      ],
      "metadata": {
        "id": "LixWXHodGNzJ"
      }
    },
    {
      "cell_type": "code",
      "source": [
        "stats.wilcoxon(before, after_10)"
      ],
      "metadata": {
        "colab": {
          "base_uri": "https://localhost:8080/"
        },
        "id": "uMFepsxdGW-L",
        "outputId": "cf2234ee-dd6c-476f-b152-0f3c9667be9b"
      },
      "execution_count": 20,
      "outputs": [
        {
          "output_type": "execute_result",
          "data": {
            "text/plain": [
              "WilcoxonResult(statistic=0.0, pvalue=0.0625)"
            ]
          },
          "metadata": {},
          "execution_count": 20
        }
      ]
    },
    {
      "cell_type": "markdown",
      "source": [
        "Статистических различий в выборках нет, т.е. препарат не влияет на уровень давления пациентов (нулевая гипотеза не отвергается)"
      ],
      "metadata": {
        "id": "P1LcQfJQG9GR"
      }
    },
    {
      "cell_type": "markdown",
      "source": [
        "# 4 Даны 3 группы  учеников плавания. В 1 группе время на дистанцию 50 м составляют: 56, 60, 62, 55, 71, 67, 59, 58, 64, 67/ Вторая группа : 57, 58, 69, 48, 72, 70, 68, 71, 50, 53/ Третья группа: 57, 67, 49, 48, 47, 55, 66, 51, 54"
      ],
      "metadata": {
        "id": "yt_y39ibHEnR"
      }
    },
    {
      "cell_type": "markdown",
      "source": [
        "Используем критерий Крускала-Уоллиса, т.к. сравниваются несколько групп и выборки независимые"
      ],
      "metadata": {
        "id": "G-o-rzxiHmex"
      }
    },
    {
      "cell_type": "code",
      "source": [
        "gr1=np.array([56, 60, 62, 55, 71, 67, 59, 58, 64, 67])\n",
        "gr2=np.array([57, 58, 69, 48, 72, 70, 68, 71, 50, 53])\n",
        "gr3=np.array([57, 67, 49, 48, 47, 55, 66, 51, 54])"
      ],
      "metadata": {
        "id": "Jht0LsgDHO5B"
      },
      "execution_count": 7,
      "outputs": []
    },
    {
      "cell_type": "code",
      "source": [
        "stats.kruskal(gr1, gr2, gr3)"
      ],
      "metadata": {
        "colab": {
          "base_uri": "https://localhost:8080/"
        },
        "id": "rjR_cmAkILhY",
        "outputId": "ad650cc7-7371-459f-d91a-92aa2adbcecb"
      },
      "execution_count": 9,
      "outputs": [
        {
          "output_type": "execute_result",
          "data": {
            "text/plain": [
              "KruskalResult(statistic=5.465564058257224, pvalue=0.0650380998590494)"
            ]
          },
          "metadata": {},
          "execution_count": 9
        }
      ]
    },
    {
      "cell_type": "markdown",
      "source": [
        "Т.к. значение pvalue больше alpha=0.05, значит, что статистически значимых различий в выборках нет, время на дистанции одинаковое (нулевая гипотеза не отвергается)"
      ],
      "metadata": {
        "id": "tl9I3WZOIn9m"
      }
    },
    {
      "cell_type": "markdown",
      "source": [
        "# 5 Заявляется, что партия изготавливается со средним арифметическим 2,5 см. Проверить данную гипотезу, если известно, что размеры изделий подчинены нормальному закону распределения. Объем выборки 10, уровень статистической значимости 5%\n",
        "\n",
        "2.51, 2.35, 2.74, 2.56, 2.40, 2.36, 2.65, 2.7, 2.67, 2.34"
      ],
      "metadata": {
        "id": "nPh47L-IJK8e"
      }
    },
    {
      "cell_type": "code",
      "source": [
        "M=2.5\n",
        "n=10\n",
        "alpha=0.05\n",
        "x=np.array([2.51, 2.35, 2.74, 2.56, 2.40, 2.36, 2.65, 2.7, 2.67, 2.34])\n",
        "x_mean=np.mean(x)\n",
        "x_mean"
      ],
      "metadata": {
        "colab": {
          "base_uri": "https://localhost:8080/"
        },
        "id": "cKGKnaDGIVJC",
        "outputId": "d4ad8826-e7a3-479b-f941-06a303187bc2"
      },
      "execution_count": 11,
      "outputs": [
        {
          "output_type": "execute_result",
          "data": {
            "text/plain": [
              "2.5279999999999996"
            ]
          },
          "metadata": {},
          "execution_count": 11
        }
      ]
    },
    {
      "cell_type": "markdown",
      "source": [
        "Т.к. стандартное отклонение генеральной совокупности неизвестно, то используем критерий Стьюдента"
      ],
      "metadata": {
        "id": "NvS8ccuhLoO5"
      }
    },
    {
      "cell_type": "code",
      "source": [
        "std=np.std(x, ddof=1)\n",
        "t=(x_mean-M)/(std/np.sqrt(n))\n",
        "print(f't={t: .4f}')"
      ],
      "metadata": {
        "colab": {
          "base_uri": "https://localhost:8080/"
        },
        "id": "NYiHv_lYLwEC",
        "outputId": "60ba5b89-ffed-43dc-bfa3-e1ce4a74a358"
      },
      "execution_count": 17,
      "outputs": [
        {
          "output_type": "stream",
          "name": "stdout",
          "text": [
            "t= 0.5631\n"
          ]
        }
      ]
    },
    {
      "cell_type": "markdown",
      "source": [
        "Найдем табличное значение t"
      ],
      "metadata": {
        "id": "D6Mdwf78MSaA"
      }
    },
    {
      "cell_type": "code",
      "source": [
        "t_table=stats.t.ppf(0.95, n-1)\n",
        "print(f't_table={t_table: .4f}')"
      ],
      "metadata": {
        "colab": {
          "base_uri": "https://localhost:8080/"
        },
        "id": "bJ7yi68VMWgS",
        "outputId": "138f69d8-fcb6-4092-9ecb-069fc37bf847"
      },
      "execution_count": 16,
      "outputs": [
        {
          "output_type": "stream",
          "name": "stdout",
          "text": [
            "t_table= 1.8331\n"
          ]
        }
      ]
    },
    {
      "cell_type": "code",
      "source": [
        "if t < t_table:\n",
        "    print(\"Нулевая гипотеза не отвергается, партия изготавливается со средним арифметическим 2,5 см.\")\n",
        "else:\n",
        "    print(\"Нулевая гипотеза отвергается, партия изготавливается со средним арифметическим не равным 2,5 см.\")"
      ],
      "metadata": {
        "colab": {
          "base_uri": "https://localhost:8080/"
        },
        "id": "Vnq2LeK2RQFA",
        "outputId": "459a84c4-5872-404b-e0d2-e0df06af1c60"
      },
      "execution_count": 21,
      "outputs": [
        {
          "output_type": "stream",
          "name": "stdout",
          "text": [
            "Нулевая гипотеза не отвергается, партия изготавливается со средним арифметическим 2,5 см.\n"
          ]
        }
      ]
    }
  ],
  "metadata": {
    "colab": {
      "name": "Добро пожаловать в Colaboratory!",
      "toc_visible": true,
      "provenance": [],
      "include_colab_link": true
    },
    "kernelspec": {
      "display_name": "Python 3",
      "name": "python3"
    }
  },
  "nbformat": 4,
  "nbformat_minor": 0
}