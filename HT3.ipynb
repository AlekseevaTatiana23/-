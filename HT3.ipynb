{
  "nbformat": 4,
  "nbformat_minor": 0,
  "metadata": {
    "colab": {
      "provenance": [],
      "authorship_tag": "ABX9TyPPOvo1ljnke84aJ76rE9AG",
      "include_colab_link": true
    },
    "kernelspec": {
      "name": "python3",
      "display_name": "Python 3"
    },
    "language_info": {
      "name": "python"
    }
  },
  "cells": [
    {
      "cell_type": "markdown",
      "metadata": {
        "id": "view-in-github",
        "colab_type": "text"
      },
      "source": [
        "<a href=\"https://colab.research.google.com/github/AlekseevaTatiana23/AlekseevaTatiana23.github.io/blob/main/HT3.ipynb\" target=\"_parent\"><img src=\"https://colab.research.google.com/assets/colab-badge.svg\" alt=\"Open In Colab\"/></a>"
      ]
    },
    {
      "cell_type": "markdown",
      "source": [
        "# 1. Даны значения зарплат из выборки выпускников: 100, 80, 75, 77, 89, 33, 45, 25, 65, 17, 30, 24, 57, 55, 70, 75, 65, 84, 90, 150. Посчитать (желательно без использования статистических методов наподобие std, var, mean) среднее арифметическое, среднее квадратичное отклонение, смещенную и несмещенную оценки дисперсий для данной выборки."
      ],
      "metadata": {
        "id": "gWOk9aRmawWf"
      }
    },
    {
      "cell_type": "code",
      "source": [
        "import numpy as np\n",
        "import matplotlib.pyplot as plt\n",
        "from math import factorial\n",
        "z=np.array([100, 80, 75, 77, 89, 33, 45, 25, 65, 17, 30, 24, 57, 55, 70, 75, 65, 84, 90, 150])\n",
        "mean_val=sum(z)/len(z)\n",
        "print(f'Среднее арифметическое = {mean_val}')"
      ],
      "metadata": {
        "colab": {
          "base_uri": "https://localhost:8080/"
        },
        "id": "Feokbed2a2R7",
        "outputId": "0e710111-85b3-478d-9875-7efc9340b2b1"
      },
      "execution_count": 46,
      "outputs": [
        {
          "output_type": "stream",
          "name": "stdout",
          "text": [
            "Среднее арифметическое = 65.3\n"
          ]
        }
      ]
    },
    {
      "cell_type": "code",
      "source": [
        "def mean_sqrt(arr):\n",
        "    dev_square=(arr - mean_val)**2\n",
        "    return (sum(dev_square) / (len(dev_square) - 1))**(1/2)\n",
        "\n",
        "print(f'sqrt = {round(mean_sqrt(z),3)}')"
      ],
      "metadata": {
        "colab": {
          "base_uri": "https://localhost:8080/"
        },
        "id": "LWH1oWPU5exJ",
        "outputId": "5c1c4128-ce2a-407e-92b4-80cd783ca6c9"
      },
      "execution_count": 49,
      "outputs": [
        {
          "output_type": "stream",
          "name": "stdout",
          "text": [
            "sqrt = 31.625\n"
          ]
        }
      ]
    },
    {
      "cell_type": "code",
      "source": [
        "def std_1(arr):\n",
        "    dev_square=(arr - mean_val)**2\n",
        "    return sum(dev_square) / len(dev_square)\n",
        "\n",
        "print(f'Смещенная дисперсия = {round(std_1(z),3)}')"
      ],
      "metadata": {
        "colab": {
          "base_uri": "https://localhost:8080/"
        },
        "id": "FUYTMB-T9Vs4",
        "outputId": "05f981cc-9ae7-45a2-e254-f03e79c922af"
      },
      "execution_count": 51,
      "outputs": [
        {
          "output_type": "stream",
          "name": "stdout",
          "text": [
            "Смещенная дисперсия = 950.11\n"
          ]
        }
      ]
    },
    {
      "cell_type": "code",
      "source": [
        "def std_2(arr):\n",
        "    dev_square=(arr - mean_val)**2\n",
        "    return sum(dev_square) / (len(dev_square)-1)\n",
        "\n",
        "print(f'Несмещенная дисперсия = {round(std_2(z),3)}')"
      ],
      "metadata": {
        "colab": {
          "base_uri": "https://localhost:8080/"
        },
        "id": "xCElAQt0-1vT",
        "outputId": "23cc1660-1c75-4a73-ced0-5a0c1446c285"
      },
      "execution_count": 52,
      "outputs": [
        {
          "output_type": "stream",
          "name": "stdout",
          "text": [
            "Несмещенная дисперсия = 1000.116\n"
          ]
        }
      ]
    },
    {
      "cell_type": "markdown",
      "source": [
        "# 2. В первом ящике находится 8 мячей, из которых 5 - белые. Во втором ящике - 12 мячей, из которых 5 белых. Из первого ящика вытаскивают случайным образом два мяча, из второго - 4. Какова вероятность того, что 3 мяча белые?"
      ],
      "metadata": {
        "id": "vdN3A0fIcwTI"
      }
    },
    {
      "cell_type": "code",
      "source": [
        "\n",
        "def combinations(n,k):\n",
        "  return int(factorial(n) / (factorial(k)*factorial(n-k)))\n"
      ],
      "metadata": {
        "id": "4FN59FKTc0-I"
      },
      "execution_count": 33,
      "outputs": []
    },
    {
      "cell_type": "markdown",
      "source": [
        "P1 = Из первого ящика вытащили 0 белых мячей, из второго вытащили 3 белых мяча"
      ],
      "metadata": {
        "id": "HFxsUe1Kl54Y"
      }
    },
    {
      "cell_type": "code",
      "source": [
        "P1=(combinations(5,0)*combinations(3,2)/combinations(8,2)) *  (combinations(5,3)*combinations(7,1)/combinations(12,4))\n",
        "print(f'P1={round(P1,3)}')"
      ],
      "metadata": {
        "colab": {
          "base_uri": "https://localhost:8080/"
        },
        "id": "OdV-buwrl-z_",
        "outputId": "0532bf0f-3bd3-40a7-9e62-8b7038331e18"
      },
      "execution_count": 34,
      "outputs": [
        {
          "output_type": "stream",
          "name": "stdout",
          "text": [
            "P1=0.015\n"
          ]
        }
      ]
    },
    {
      "cell_type": "markdown",
      "source": [
        "P2 = Из первого ящика вытащили 1 белых мяч, из второго вытащили 2 белых мяча"
      ],
      "metadata": {
        "id": "WY4_65qgm-GD"
      }
    },
    {
      "cell_type": "code",
      "source": [
        "P2=(combinations(5,1)*combinations(3,1)/combinations(8,2)) *  (combinations(5,2)*combinations(7,2)/combinations(12,4))\n",
        "print(f'P2={round(P2,3)}')"
      ],
      "metadata": {
        "colab": {
          "base_uri": "https://localhost:8080/"
        },
        "id": "Jm2z-zHInC5U",
        "outputId": "fca9ab4c-2733-4901-a125-360f133a5db0"
      },
      "execution_count": 7,
      "outputs": [
        {
          "output_type": "stream",
          "name": "stdout",
          "text": [
            "P2=0.227\n"
          ]
        }
      ]
    },
    {
      "cell_type": "markdown",
      "source": [
        "P3 = Из первого ящика вытащили 2 белых мяч, из второго вытащили 1 белый мяч"
      ],
      "metadata": {
        "id": "L5LunMepnTBS"
      }
    },
    {
      "cell_type": "code",
      "source": [
        "P3=(combinations(5,2)*combinations(3,0)/combinations(8,2)) *  (combinations(5,1)*combinations(7,3)/combinations(12,4))\n",
        "print(f'P3={round(P3,3)}')"
      ],
      "metadata": {
        "colab": {
          "base_uri": "https://localhost:8080/"
        },
        "id": "_y31EEiknbs0",
        "outputId": "0e5c7d93-5ca5-4d2c-bfb2-5c71a33945ce"
      },
      "execution_count": 9,
      "outputs": [
        {
          "output_type": "stream",
          "name": "stdout",
          "text": [
            "P3=0.126\n"
          ]
        }
      ]
    },
    {
      "cell_type": "code",
      "source": [
        "P=P1+P2+P3\n",
        "print(f'P={round(P,3)}')"
      ],
      "metadata": {
        "colab": {
          "base_uri": "https://localhost:8080/"
        },
        "id": "oBwh86uZnmHj",
        "outputId": "6544502e-eb50-421b-d2be-e590511eefc9"
      },
      "execution_count": 11,
      "outputs": [
        {
          "output_type": "stream",
          "name": "stdout",
          "text": [
            "P=0.369\n"
          ]
        }
      ]
    },
    {
      "cell_type": "markdown",
      "source": [
        "# 3. На соревновании по биатлону один из трех спортсменов стреляет и попадает в мишень. Вероятность попадания для первого спортсмена равна 0.9, для второго — 0.8, для третьего — 0.6. Найти вероятность того, что выстрел произведен: a). первым спортсменом б). вторым спортсменом в). третьим спортсменом."
      ],
      "metadata": {
        "id": "5CgUviMLc1MO"
      }
    },
    {
      "cell_type": "markdown",
      "source": [
        "Вероятность выстрела одним из 3 спортсменов равна 1/3. Полная вероятность попадания равна произведению вероятностей попаданий каждым из 3 спортсменов."
      ],
      "metadata": {
        "id": "mE4_CnAmoe2s"
      }
    },
    {
      "cell_type": "code",
      "source": [
        "PAB=1/3\n",
        "PB1=0.9\n",
        "PB2=0.8\n",
        "PB3=0.6\n",
        "PA=PAB*(PB1+PB2+PB3)\n",
        "print(f'PA={round(PA,3)}')"
      ],
      "metadata": {
        "colab": {
          "base_uri": "https://localhost:8080/"
        },
        "id": "cmgYKGkQos-p",
        "outputId": "23685070-9405-4dc3-f824-080a335461fa"
      },
      "execution_count": 22,
      "outputs": [
        {
          "output_type": "stream",
          "name": "stdout",
          "text": [
            "PA=0.767\n"
          ]
        }
      ]
    },
    {
      "cell_type": "markdown",
      "source": [
        "По формуле Байеса найдем вероятность попадания каждым спортсменов"
      ],
      "metadata": {
        "id": "kqwbAYwIqLQ9"
      }
    },
    {
      "cell_type": "code",
      "source": [
        "PBA1=(PAB*PB1)/PA\n",
        "PBA2=(PAB*PB2)/PA\n",
        "PBA3=(PAB*PB3)/PA\n",
        "print(f'PBA1={round(PBA1,3)}')\n",
        "print(f'PBA2={round(PBA2,3)}')\n",
        "print(f'PBA3={round(PBA3,3)}')"
      ],
      "metadata": {
        "colab": {
          "base_uri": "https://localhost:8080/"
        },
        "id": "d1afoLIgqPgg",
        "outputId": "6e89539b-a21e-4868-d02e-b7e590ad452e"
      },
      "execution_count": 19,
      "outputs": [
        {
          "output_type": "stream",
          "name": "stdout",
          "text": [
            "PBA1=0.391\n",
            "PBA2=0.348\n",
            "PBA3=0.261\n"
          ]
        }
      ]
    },
    {
      "cell_type": "markdown",
      "source": [
        "# 4. В университет на факультеты A и B поступило равное количество студентов, а на факультет C студентов поступило столько же, сколько на A и B вместе. Вероятность того, что студент факультета A сдаст первую сессию, равна 0.8. Для студента факультета B эта вероятность равна 0.7, а для студента факультета C - 0.9. Студент сдал первую сессию. Какова вероятность, что он учится: a). на факультете A б). на факультете B в). на факультете C?"
      ],
      "metadata": {
        "id": "B4h5c4ANc5nv"
      }
    },
    {
      "cell_type": "markdown",
      "source": [
        "Доля студентов факультета A и В = 0.25, доля студентов факультета С=0.5.\n",
        "Найдем полную вероятность, что студент сдал первую сессию. Р(А)=Р(В1)*P(A/B1)+Р(В2)*P(A/B2)+Р(В3)*P(A/B3)\n",
        "А далее по формуле Байеса вероятность того, что студент учится да одном из факультете."
      ],
      "metadata": {
        "id": "D6lLJo6OxAkm"
      }
    },
    {
      "cell_type": "code",
      "source": [
        "PA=0.25*0.8+0.25*0.7+0.5*0.9\n",
        "print(f'PA={round(PA,3)}')"
      ],
      "metadata": {
        "colab": {
          "base_uri": "https://localhost:8080/"
        },
        "id": "kekpEfJqc9TF",
        "outputId": "6ce18cdf-8c9b-4687-d639-f78cfb0b7f4b"
      },
      "execution_count": 24,
      "outputs": [
        {
          "output_type": "stream",
          "name": "stdout",
          "text": [
            "PA=0.825\n"
          ]
        }
      ]
    },
    {
      "cell_type": "code",
      "source": [
        "PBA1=(0.25*0.8)/PA\n",
        "PBA2=(0.25*0.7)/PA\n",
        "PBA3=(0.5*0.9)/PA\n",
        "print(f'PBA1={round(PBA1,3)}')\n",
        "print(f'PBA2={round(PBA2,3)}')\n",
        "print(f'PBA3={round(PBA3,3)}')"
      ],
      "metadata": {
        "colab": {
          "base_uri": "https://localhost:8080/"
        },
        "id": "6MWhTohkzuuu",
        "outputId": "ef3eb209-1270-4629-fab8-37908e9e2f9d"
      },
      "execution_count": 25,
      "outputs": [
        {
          "output_type": "stream",
          "name": "stdout",
          "text": [
            "PBA1=0.242\n",
            "PBA2=0.212\n",
            "PBA3=0.545\n"
          ]
        }
      ]
    },
    {
      "cell_type": "markdown",
      "source": [
        "# 5. Устройство состоит из трех деталей. Для первой детали вероятность выйти из строя в первый месяц равна 0.1, для второй - 0.2, для третьей - 0.25. Какова вероятность того, что в первый месяц выйдут из строя: а). все детали б). только две детали в). хотя бы одна деталь г). от одной до двух деталей?"
      ],
      "metadata": {
        "id": "Zed-fwlMc9oe"
      }
    },
    {
      "cell_type": "markdown",
      "source": [
        "а) Вероятность того,что из строя выйдут все детали равна произведению вероятностей выхода из строя каждой детали (совместные события)"
      ],
      "metadata": {
        "id": "-_855-p71muB"
      }
    },
    {
      "cell_type": "code",
      "source": [
        "PA=0.1\n",
        "PB=0.2\n",
        "PC=0.25\n",
        "P1=PA*PB*PC\n",
        "print(f'P1={round(P1,3)}')"
      ],
      "metadata": {
        "colab": {
          "base_uri": "https://localhost:8080/"
        },
        "id": "jiqh5TW-dBXI",
        "outputId": "b3ffa837-7478-48d5-8675-aa2b9ba56336"
      },
      "execution_count": 29,
      "outputs": [
        {
          "output_type": "stream",
          "name": "stdout",
          "text": [
            "P1=0.005\n"
          ]
        }
      ]
    },
    {
      "cell_type": "markdown",
      "source": [
        "б) Из строя вышла первая и вторая делать, третья не вышла ИЛИ из стоя вышла первая и третья деталь, вторая не вышла ИЛИ из строя вышла вторая и третья деталь, первая не вышла"
      ],
      "metadata": {
        "id": "STlPN3Z52OCY"
      }
    },
    {
      "cell_type": "code",
      "source": [
        "qA=1-PA\n",
        "qB=1-PB\n",
        "qC=1-PC\n",
        "\n",
        "P2=PA*PB*qC + PA*PC*qB + PB*PC*qA\n",
        "print(f'P2={round(P2,3)}')"
      ],
      "metadata": {
        "colab": {
          "base_uri": "https://localhost:8080/"
        },
        "id": "btlBE93s2g3z",
        "outputId": "5aeb5f16-ca29-434d-d8e8-0d5a4db0bcbb"
      },
      "execution_count": 30,
      "outputs": [
        {
          "output_type": "stream",
          "name": "stdout",
          "text": [
            "P2=0.08\n"
          ]
        }
      ]
    },
    {
      "cell_type": "markdown",
      "source": [
        "в) Вероятность того, что из строя вышла хоть 1 деталь = 1-вероятность того, что из строя не вышло ни одной детали"
      ],
      "metadata": {
        "id": "UznZCJPs3EO0"
      }
    },
    {
      "cell_type": "code",
      "source": [
        "P3=1-qA*qB*qC\n",
        "print(f'P3={round(P3,3)}')"
      ],
      "metadata": {
        "colab": {
          "base_uri": "https://localhost:8080/"
        },
        "id": "DksfUyPZ3YnK",
        "outputId": "d68043c3-c5d5-4cd8-e729-433ac849c33b"
      },
      "execution_count": 31,
      "outputs": [
        {
          "output_type": "stream",
          "name": "stdout",
          "text": [
            "P3=0.46\n"
          ]
        }
      ]
    },
    {
      "cell_type": "markdown",
      "source": [
        "г) Вероятность того, что из строя вышло от 1 до 2 деталей = 1-вероятность того, что из строя не вышло ни одной детали и минус вероятность того, что из строя вышли 3 детали одновременно"
      ],
      "metadata": {
        "id": "E68T50A43ib3"
      }
    },
    {
      "cell_type": "code",
      "source": [
        "P4=1-qA*qB*qC-P1\n",
        "print(f'P4={round(P4,3)}')"
      ],
      "metadata": {
        "colab": {
          "base_uri": "https://localhost:8080/"
        },
        "id": "rFrT3pEn30I3",
        "outputId": "d04a0128-c6a6-4a45-8724-9ecd8a9de680"
      },
      "execution_count": 32,
      "outputs": [
        {
          "output_type": "stream",
          "name": "stdout",
          "text": [
            "P4=0.455\n"
          ]
        }
      ]
    }
  ]
}