{
  "nbformat": 4,
  "nbformat_minor": 0,
  "metadata": {
    "colab": {
      "provenance": [],
      "authorship_tag": "ABX9TyPP4Zbr0jClR0jrynH6pmNb",
      "include_colab_link": true
    },
    "kernelspec": {
      "name": "python3",
      "display_name": "Python 3"
    },
    "language_info": {
      "name": "python"
    }
  },
  "cells": [
    {
      "cell_type": "markdown",
      "metadata": {
        "id": "view-in-github",
        "colab_type": "text"
      },
      "source": [
        "<a href=\"https://colab.research.google.com/github/AlekseevaTatiana23/AlekseevaTatiana23.github.io/blob/main/HT5.ipynb\" target=\"_parent\"><img src=\"https://colab.research.google.com/assets/colab-badge.svg\" alt=\"Open In Colab\"/></a>"
      ]
    },
    {
      "cell_type": "markdown",
      "source": [
        "# 1. Когда используется критерий Стьюдента, а когда Z –критерий?"
      ],
      "metadata": {
        "id": "wOdvniWs_cYf"
      }
    },
    {
      "cell_type": "markdown",
      "source": [
        "Z-критерий используется, когда известно стандартное отклонение генеральной совокупности, и распределение соответствует нормальному.\n",
        "t-критерий - когда стандартное отклонение генеральной совокупности неизвестно, распределение соответствует нормальному, и дисперсии в группах равны"
      ],
      "metadata": {
        "id": "1DM-8g3K_f0D"
      }
    },
    {
      "cell_type": "markdown",
      "source": [
        "# 2. Проведите тест гипотезы. Утверждается, что шарики для подшипников, изготовленные автоматическим станком, имеют средний диаметр 17 мм. Используя односторонний критерий с α=0,05, проверить эту гипотезу, если в выборке из n=100 шариков средний диаметр оказался равным 17.5 мм, а дисперсия известна и равна 4 кв. мм."
      ],
      "metadata": {
        "id": "eN04pAD7BbOw"
      }
    },
    {
      "cell_type": "code",
      "source": [
        "import numpy as np\n",
        "alpha=0.05\n",
        "n=100\n",
        "M=17\n",
        "X_mean=17.5\n",
        "D=4\n",
        "\n",
        "Z=(X_mean-M)/(np.sqrt(D/n))\n",
        "Z"
      ],
      "metadata": {
        "colab": {
          "base_uri": "https://localhost:8080/"
        },
        "id": "Okr5nj3-BiS_",
        "outputId": "03ad6ff8-3f92-4589-dc75-d0455ab7d01f"
      },
      "execution_count": 2,
      "outputs": [
        {
          "output_type": "execute_result",
          "data": {
            "text/plain": [
              "2.5"
            ]
          },
          "metadata": {},
          "execution_count": 2
        }
      ]
    },
    {
      "cell_type": "markdown",
      "source": [
        "Найдем табличное значение Z критерия по таблице или по формуле"
      ],
      "metadata": {
        "id": "0kpckYHOD0_K"
      }
    },
    {
      "cell_type": "code",
      "source": [
        "from scipy import stats\n",
        "Z_table=stats.norm.ppf(0.95)\n",
        "print(f'Z_table: {Z_table: .4f}')\n"
      ],
      "metadata": {
        "colab": {
          "base_uri": "https://localhost:8080/"
        },
        "id": "PEQlz8shD6qK",
        "outputId": "2276388b-576e-415a-e7ee-d6759449e980"
      },
      "execution_count": 3,
      "outputs": [
        {
          "output_type": "stream",
          "name": "stdout",
          "text": [
            "Z_table:  1.6449\n"
          ]
        }
      ]
    },
    {
      "cell_type": "markdown",
      "source": [
        "Т.к. рассчитанный критерий Z лежит не в пределах табличного значения и дальше от среднего, нулевая гипотеза отвергается"
      ],
      "metadata": {
        "id": "UBgL79S6EOPR"
      }
    },
    {
      "cell_type": "markdown",
      "source": [
        "# 3.Проведите тест гипотезы. Продавец утверждает, что средний вес пачки печенья составляет 200 г. Из партии извлечена выборка из 10 пачек. Вес каждой пачки составляет: 202, 203, 199, 197, 195, 201, 200, 204, 194, 190. Известно, что их веса распределены нормально. Верно ли утверждение продавца, если учитывать, что доверительная вероятность равна 99%? (Провести двусторонний тест.)"
      ],
      "metadata": {
        "id": "2u6k4BunEgRd"
      }
    },
    {
      "cell_type": "code",
      "source": [
        "import numpy as np\n",
        "alpha=0.01\n",
        "n=10\n",
        "M=200\n",
        "X=np.array([202, 203, 199, 197, 195, 201, 200, 204, 194, 190])\n",
        "X_mean=np.mean(X)\n",
        "X_mean\n",
        "std=np.std(X, ddof=1)\n",
        "std\n",
        "\n",
        "t=(X_mean-M)/(std/np.sqrt(n))\n",
        "t"
      ],
      "metadata": {
        "colab": {
          "base_uri": "https://localhost:8080/"
        },
        "id": "ZQxKtR8NElmO",
        "outputId": "f18250a0-ebbc-403d-a7b6-b1f4cb1f65fd"
      },
      "execution_count": 5,
      "outputs": [
        {
          "output_type": "execute_result",
          "data": {
            "text/plain": [
              "-1.0651074037450896"
            ]
          },
          "metadata": {},
          "execution_count": 5
        }
      ]
    },
    {
      "cell_type": "markdown",
      "source": [
        "Найдем табличное значение t-критерия, для alpha=0.01/2=0.005 (Для двустороннего предела)."
      ],
      "metadata": {
        "id": "vRbl7d8qGutZ"
      }
    },
    {
      "cell_type": "code",
      "source": [
        "t_table=stats.t.ppf(0.995,n-1)\n",
        "print(f't_table={t_table: .4f}')"
      ],
      "metadata": {
        "colab": {
          "base_uri": "https://localhost:8080/"
        },
        "id": "s4Oxm-2CKNLT",
        "outputId": "1c805182-ba52-44d7-f595-deffaa6bba3f"
      },
      "execution_count": 15,
      "outputs": [
        {
          "output_type": "stream",
          "name": "stdout",
          "text": [
            "t_table= 3.2498\n"
          ]
        }
      ]
    },
    {
      "cell_type": "markdown",
      "source": [
        "Поскольку рассчитанное значение критерия и его модуль меньше табличного, нулевая гипотеза принимается."
      ],
      "metadata": {
        "id": "1OW-eKJGJ-Dw"
      }
    },
    {
      "cell_type": "markdown",
      "source": [
        "# 4.Есть ли статистически значимые различия в росте дочерей? Рост матерей 172, 177, 158, 170, 178,175, 164, 160, 169, 165 Рост взрослых дочерей: 173, 175, 162, 174, 175, 168, 155, 170, 160"
      ],
      "metadata": {
        "id": "S3XDIbncKk2d"
      }
    },
    {
      "cell_type": "code",
      "source": [
        "X=np.array([172, 177, 158, 170, 178,175, 164, 160, 169, 165])\n",
        "Y=np.array([173, 175, 162, 174, 175, 168, 155, 170, 160, 163])\n",
        "\n",
        "\n",
        "stats.ttest_rel(X,Y)"
      ],
      "metadata": {
        "colab": {
          "base_uri": "https://localhost:8080/"
        },
        "id": "hZkXGJZlKqtT",
        "outputId": "01df2b2a-ca21-4c37-d3ce-76b040eba432"
      },
      "execution_count": 19,
      "outputs": [
        {
          "output_type": "execute_result",
          "data": {
            "text/plain": [
              "TtestResult(statistic=0.6648478531431979, pvalue=0.5228168632983574, df=9)"
            ]
          },
          "metadata": {},
          "execution_count": 19
        }
      ]
    },
    {
      "cell_type": "markdown",
      "source": [
        "Так как p-value>alpha (0.05), статистически значимых различий нет. Нулевую гипотезу не отвергаем."
      ],
      "metadata": {
        "id": "tA38PeXHPNlu"
      }
    }
  ]
}